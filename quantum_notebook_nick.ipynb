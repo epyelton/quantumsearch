{
 "cells": [
  {
   "cell_type": "code",
   "execution_count": 1,
   "metadata": {
    "colab": {
     "base_uri": "https://localhost:8080/",
     "height": 368
    },
    "colab_type": "code",
    "id": "v0QoPuGaKdLf",
    "outputId": "433480dd-2e74-475c-9820-b918f8b4c5fa"
   },
   "outputs": [],
   "source": [
    "# Importing standard Qiskit libraries and configuring account\n",
    "from qiskit import QuantumCircuit, execute, Aer, IBMQ\n",
    "from qiskit.compiler import transpile, assemble\n",
    "from qiskit.tools.jupyter import *\n",
    "from qiskit.visualization import *\n",
    "# Loading your IBM Q account(s)\n",
    "provider = IBMQ.load_account()\n",
    "from qiskit import *\n",
    "from qiskit.providers.ibmq import least_busy"
   ]
  },
  {
   "cell_type": "code",
   "execution_count": 71,
   "metadata": {
    "colab": {
     "base_uri": "https://localhost:8080/",
     "height": 119
    },
    "colab_type": "code",
    "id": "UqM_j8hBoKq_",
    "outputId": "f08f3cb3-687e-4ce1-a1ed-ad83c70a9381"
   },
   "outputs": [
    {
     "data": {
      "text/plain": [
       "{'qiskit-terra': '0.14.2',\n",
       " 'qiskit-aer': '0.5.2',\n",
       " 'qiskit-ignis': '0.3.2',\n",
       " 'qiskit-ibmq-provider': '0.7.2',\n",
       " 'qiskit-aqua': None,\n",
       " 'qiskit': '0.19.5'}"
      ]
     },
     "execution_count": 71,
     "metadata": {},
     "output_type": "execute_result"
    }
   ],
   "source": [
    "# imports\n",
    "import qiskit\n",
    "import math\n",
    "\n",
    "# imports\n",
    "import matplotlib.pyplot as plt\n",
    "import numpy as np\n",
    "%matplotlib inline\n",
    "%config InlineBackend.figure_format = 'svg' # Makes the images look nice\n",
    "\n",
    "# import qiskit\n",
    "from qiskit import IBMQ, Aer\n",
    "from qiskit.providers.ibmq import least_busy\n",
    "from qiskit import QuantumCircuit, ClassicalRegister, QuantumRegister, execute\n",
    "\n",
    "# import basic plot tools\n",
    "from qiskit.visualization import plot_histogram, plot_state_city\n",
    "\n",
    "# gates/operators\n",
    "from qiskit.quantum_info.operators import Operator\n",
    "\n",
    "qiskit.__qiskit_version__"
   ]
  },
  {
   "cell_type": "markdown",
   "metadata": {
    "colab_type": "text",
    "id": "6Hiov6oCnxmk"
   },
   "source": [
    "qiskit.__qiskit_version__"
   ]
  },
  {
   "cell_type": "code",
   "execution_count": 72,
   "metadata": {
    "colab": {},
    "colab_type": "code",
    "id": "vB1pvWb5HCHF"
   },
   "outputs": [],
   "source": [
    "# CONVERSION TOOLS\n",
    "def int_to_binary(i, length): # returns binary string of int with some length\n",
    "    raw_str = \"{0:b}\".format(i)\n",
    "    return raw_str.zfill(length)\n",
    "\n",
    "def get_binary_basis_vec(d, n): # returns vec e_d from equation 2, string form\n",
    "    # d is direction, n is number of dimensions/qubits\n",
    "    e_d = ''.zfill(n - 1 - d) + '1' + ''.zfill(d)\n",
    "    return e_d\n",
    "\n",
    "def bitwise_xor(a, b): \n",
    "    # get bitwise addition/xor of two strings, length preserved\n",
    "    y = int(a, 2)^int(b,2)\n",
    "    return bin(y)[2:].zfill(len(a))"
   ]
  },
  {
   "cell_type": "code",
   "execution_count": 73,
   "metadata": {
    "colab": {},
    "colab_type": "code",
    "id": "TAF2MIClwpwn"
   },
   "outputs": [],
   "source": [
    "# VISUALIZATION TOOLS\n",
    "\n",
    "def draw_circuit(self):\n",
    "    return self.circuit.draw('mpl')\n",
    "\n",
    "def plot_states_hist(self):  # plots by actually measuring the circuit\n",
    "    self.circuit.measure_all()\n",
    "\n",
    "    backend = Aer.get_backend('qasm_simulator')\n",
    "    shots = 1024 # number of times circuit is run, for sampling\n",
    "    results = execute(self.circuit, backend=backend, shots=shots).result()\n",
    "    answer = results.get_counts()\n",
    "  \n",
    "    return plot_histogram(answer)\n",
    "\n",
    "def plot_states_3D(self): # plots current states in 3D\n",
    "    backend = Aer.get_backend('statevector_simulator') # the device to run on\n",
    "    results = execute(self.circuit, backend).result()\n",
    "    answer  = result.get_statevector(self.circuit)\n",
    "\n",
    "    return plot_state_city(answer)"
   ]
  },
  {
   "cell_type": "code",
   "execution_count": 115,
   "metadata": {
    "colab": {},
    "colab_type": "code",
    "id": "woUpMSPyw-aq"
   },
   "outputs": [],
   "source": [
    "# CIRCUIT TOOLS\n",
    "def get_n_qubits_coin(self):\n",
    "    # number of qubits needed for the coin/\n",
    "    # number of bits needed to specify direction in n-cube\n",
    "    return int(math.ceil(np.log2(self.n)))\n",
    "    \n",
    "def initialize_circuit(self): # initializes quantum computer\n",
    "    # need to initialize an equal superposition over all states\n",
    "    self.n_qubits_coin = get_n_qubits_coin(self) # qubits needed for coin\n",
    "    self.n_qubits_total = self.n + self.n_qubits_coin\n",
    "    \n",
    "    coin_register = QuantumRegister(self.n_qubits_coin, 'coin')\n",
    "    cube_register = QuantumRegister(self.n, 'node')\n",
    "\n",
    "    circuit = QuantumCircuit(coin_register, cube_register)\n",
    "\n",
    "    for qubit in range(self.n_qubits_total):\n",
    "        circuit.h(qubit) # perform hadamard on each qubit\n",
    "        \n",
    "    self.circuit_initialized = True\n",
    "    \n",
    "    return circuit\n",
    "\n",
    "def perform_evolution(self): # perform step 2 of algorithm\n",
    "    if not self.circuit_initialized:\n",
    "        print(\"Error: initialize circuit first!\")\n",
    "        return\n",
    "    \n",
    "    tF = math.ceil(np.pi * np.sqrt(self.N) / 2) # number of times to apply evolution op\n",
    "    \n",
    "    Uprime = get_perturbed_evolution_operator(self)\n",
    "    \n",
    "    for it in range(tF):\n",
    "        self.circuit.append(Uprime)\n",
    "    \n",
    "    return"
   ]
  },
  {
   "cell_type": "code",
   "execution_count": 138,
   "metadata": {
    "colab": {},
    "colab_type": "code",
    "id": "7EEIulUywlri"
   },
   "outputs": [],
   "source": [
    "# OPERATORS/GATES\n",
    "def get_sC_matrix(self): # gets |s^C><s^C| matrix\n",
    "    sC_matrix = np.ones((self.n, self.n)) / n\n",
    "    \n",
    "    return sC_matrix\n",
    "\n",
    "def get_sC_operator(self):\n",
    "    sC_matrix = get_sC_matrix(self)\n",
    "    \n",
    "    return Operator(sC_matrix)\n",
    "    \n",
    "\n",
    "def get_shift_matrix(self): # get matrix form of S operator\n",
    "    S = np.zeros((self.dim_U, self.dim_U))\n",
    "    \n",
    "  # following equation 2 of the paper\n",
    "    for d in range(self.n): # sum over each cartesian direction\n",
    "        for x in range(self.N): # loop over each position on hypercube\n",
    "            d_str = int_to_binary(d, self.n_qubits_coin)\n",
    "            x_str = int_to_binary(x, self.n)\n",
    "            e_d_str = get_binary_basis_vec(d, self.n)\n",
    "            \n",
    "#             print(d_str,x_str,e_d_str)\n",
    "\n",
    "            # binary string that shows row:\n",
    "            row_str = d_str + bitwise_xor(x_str, e_d_str)\n",
    "            # same, for col:\n",
    "            col_str = d_str + x_str\n",
    "            \n",
    "            row_index = int(row_str, 2)\n",
    "            col_index = int(col_str, 2)\n",
    "            \n",
    "#             print(row_index, col_index)\n",
    "            \n",
    "            S[row_index][col_index] = 1\n",
    "    \n",
    "    return S\n",
    "\n",
    "\n",
    "def get_shift_operator(self): # S operator, from the paper\n",
    "    # get matrix from of the operator\n",
    "    S_matrix = get_shift_matrix(self)\n",
    "    \n",
    "\n",
    "    return Operator(S_matrix)\n",
    "\n",
    "def get_c_matrices(self): #C matrix\n",
    "    grovers = np.full((self.n, self.n), 2/self.N)\n",
    "    np.fill_diagonal(grovers, 2/self.N-1)\n",
    "    coin_operator = np.kron(grovers, np.eye(self.N))\n",
    "    return grovers, coin_operator\n",
    "\n",
    "def get_coin_matrix(self):\n",
    "    C_0, C = get_c_matrices(self)\n",
    "    tens1 = -np.eye(self.n)- C_0\n",
    "    tens2 = np.zeros((self.N,self.N)) # |000…00><000…00| term\n",
    "    tens2[0][0] = 1\n",
    "    \n",
    "    right_term = np.kron(tens1, tens2)\n",
    "    return C+right_term\n",
    "\n",
    "def get_perturbed_coin_operator(self): # C' operator, from the paper\n",
    "    coin_matrix = get_coin_matrix(self)\n",
    "    return Operator(coin_matrix)\n",
    "\n",
    "def get_perturbed_evolution_operator(self): # U' operator in the paper\n",
    "    S = get_shift_operator(self)\n",
    "    Cprime = get_perturbed_coin_operator(self)\n",
    "    \n",
    "    print(Cprime.data.shape)\n",
    "    \n",
    "    self.circuit.append(S)\n",
    "    \n",
    "    Uprime = S.compose(Cprime, front=True)\n",
    "    \n",
    "    return Uprime\n",
    "    "
   ]
  },
  {
   "cell_type": "code",
   "execution_count": 144,
   "metadata": {
    "colab": {},
    "colab_type": "code",
    "id": "teQfWGGBcexY"
   },
   "outputs": [],
   "source": [
    "class QRW:\n",
    "    # INITIALIZATION HELPERS\n",
    "    def __init__(self, num_qubits_cube):\n",
    "        self.n = num_qubits_cube # total number of qubits in cube; n-cube will have N = 2^n nodes\n",
    "        self.N = int(2**n)\n",
    "        self.dim_U = self.n * int(2**n) # no. of rows/cols for U/S/C\n",
    "        \n",
    "        self.circuit = self.initialize_circuit()\n",
    "\n",
    "    # CIRCUIT TOOLS\n",
    "    initialize_circuit = initialize_circuit\n",
    "    perform_evolution = perform_evolution\n",
    "\n",
    "\n",
    "    # VISUALIZATION TOOLS\n",
    "    draw_circuit = draw_circuit\n",
    "    plot_states_hist = plot_states_hist\n",
    "    plot_states_3D = plot_states_3D"
   ]
  },
  {
   "cell_type": "code",
   "execution_count": 145,
   "metadata": {
    "colab": {
     "base_uri": "https://localhost:8080/",
     "height": 246
    },
    "colab_type": "code",
    "id": "_qtzWpl9U9xy",
    "outputId": "2c51c37a-1437-426e-e218-e031967ac86e"
   },
   "outputs": [
    {
     "name": "stdout",
     "output_type": "stream",
     "text": [
      "(24, 24)\n"
     ]
    },
    {
     "ename": "ExtensionError",
     "evalue": "'Input matrix is not an N-qubit operator.'",
     "output_type": "error",
     "traceback": [
      "\u001b[0;31m---------------------------------------------------------------------------\u001b[0m",
      "\u001b[0;31mExtensionError\u001b[0m                            Traceback (most recent call last)",
      "\u001b[0;32m<ipython-input-145-d893d4995f6c>\u001b[0m in \u001b[0;36m<module>\u001b[0;34m\u001b[0m\n\u001b[1;32m      2\u001b[0m \u001b[0mqrw\u001b[0m \u001b[0;34m=\u001b[0m \u001b[0mQRW\u001b[0m\u001b[0;34m(\u001b[0m\u001b[0mn\u001b[0m\u001b[0;34m)\u001b[0m \u001b[0;31m# initialize computer\u001b[0m\u001b[0;34m\u001b[0m\u001b[0;34m\u001b[0m\u001b[0m\n\u001b[1;32m      3\u001b[0m \u001b[0mqrw\u001b[0m\u001b[0;34m.\u001b[0m\u001b[0mdraw_circuit\u001b[0m\u001b[0;34m(\u001b[0m\u001b[0;34m)\u001b[0m\u001b[0;34m\u001b[0m\u001b[0;34m\u001b[0m\u001b[0m\n\u001b[0;32m----> 4\u001b[0;31m \u001b[0mqrw\u001b[0m\u001b[0;34m.\u001b[0m\u001b[0mperform_evolution\u001b[0m\u001b[0;34m(\u001b[0m\u001b[0;34m)\u001b[0m\u001b[0;34m\u001b[0m\u001b[0;34m\u001b[0m\u001b[0m\n\u001b[0m\u001b[1;32m      5\u001b[0m \u001b[0;31m#qrw_instance.plot_states_hist()\u001b[0m\u001b[0;34m\u001b[0m\u001b[0;34m\u001b[0m\u001b[0;34m\u001b[0m\u001b[0m\n",
      "\u001b[0;32m<ipython-input-115-9cd2703785ad>\u001b[0m in \u001b[0;36mperform_evolution\u001b[0;34m(self)\u001b[0m\n\u001b[1;32m     29\u001b[0m     \u001b[0mtF\u001b[0m \u001b[0;34m=\u001b[0m \u001b[0mmath\u001b[0m\u001b[0;34m.\u001b[0m\u001b[0mceil\u001b[0m\u001b[0;34m(\u001b[0m\u001b[0mnp\u001b[0m\u001b[0;34m.\u001b[0m\u001b[0mpi\u001b[0m \u001b[0;34m*\u001b[0m \u001b[0mnp\u001b[0m\u001b[0;34m.\u001b[0m\u001b[0msqrt\u001b[0m\u001b[0;34m(\u001b[0m\u001b[0mself\u001b[0m\u001b[0;34m.\u001b[0m\u001b[0mN\u001b[0m\u001b[0;34m)\u001b[0m \u001b[0;34m/\u001b[0m \u001b[0;36m2\u001b[0m\u001b[0;34m)\u001b[0m \u001b[0;31m# number of times to apply evolution op\u001b[0m\u001b[0;34m\u001b[0m\u001b[0;34m\u001b[0m\u001b[0m\n\u001b[1;32m     30\u001b[0m \u001b[0;34m\u001b[0m\u001b[0m\n\u001b[0;32m---> 31\u001b[0;31m     \u001b[0mUprime\u001b[0m \u001b[0;34m=\u001b[0m \u001b[0mget_perturbed_evolution_operator\u001b[0m\u001b[0;34m(\u001b[0m\u001b[0mself\u001b[0m\u001b[0;34m)\u001b[0m\u001b[0;34m\u001b[0m\u001b[0;34m\u001b[0m\u001b[0m\n\u001b[0m\u001b[1;32m     32\u001b[0m \u001b[0;34m\u001b[0m\u001b[0m\n\u001b[1;32m     33\u001b[0m     \u001b[0;32mfor\u001b[0m \u001b[0mit\u001b[0m \u001b[0;32min\u001b[0m \u001b[0mrange\u001b[0m\u001b[0;34m(\u001b[0m\u001b[0mtF\u001b[0m\u001b[0;34m)\u001b[0m\u001b[0;34m:\u001b[0m\u001b[0;34m\u001b[0m\u001b[0;34m\u001b[0m\u001b[0m\n",
      "\u001b[0;32m<ipython-input-138-ceb4051ab275>\u001b[0m in \u001b[0;36mget_perturbed_evolution_operator\u001b[0;34m(self)\u001b[0m\n\u001b[1;32m     70\u001b[0m     \u001b[0mprint\u001b[0m\u001b[0;34m(\u001b[0m\u001b[0mCprime\u001b[0m\u001b[0;34m.\u001b[0m\u001b[0mdata\u001b[0m\u001b[0;34m.\u001b[0m\u001b[0mshape\u001b[0m\u001b[0;34m)\u001b[0m\u001b[0;34m\u001b[0m\u001b[0;34m\u001b[0m\u001b[0m\n\u001b[1;32m     71\u001b[0m \u001b[0;34m\u001b[0m\u001b[0m\n\u001b[0;32m---> 72\u001b[0;31m     \u001b[0mself\u001b[0m\u001b[0;34m.\u001b[0m\u001b[0mcircuit\u001b[0m\u001b[0;34m.\u001b[0m\u001b[0mappend\u001b[0m\u001b[0;34m(\u001b[0m\u001b[0mS\u001b[0m\u001b[0;34m)\u001b[0m\u001b[0;34m\u001b[0m\u001b[0;34m\u001b[0m\u001b[0m\n\u001b[0m\u001b[1;32m     73\u001b[0m \u001b[0;34m\u001b[0m\u001b[0m\n\u001b[1;32m     74\u001b[0m     \u001b[0mUprime\u001b[0m \u001b[0;34m=\u001b[0m \u001b[0mS\u001b[0m\u001b[0;34m.\u001b[0m\u001b[0mcompose\u001b[0m\u001b[0;34m(\u001b[0m\u001b[0mCprime\u001b[0m\u001b[0;34m,\u001b[0m \u001b[0mfront\u001b[0m\u001b[0;34m=\u001b[0m\u001b[0;32mTrue\u001b[0m\u001b[0;34m)\u001b[0m\u001b[0;34m\u001b[0m\u001b[0;34m\u001b[0m\u001b[0m\n",
      "\u001b[0;32m/Library/Frameworks/Python.framework/Versions/3.7/lib/python3.7/site-packages/qiskit/circuit/quantumcircuit.py\u001b[0m in \u001b[0;36mappend\u001b[0;34m(self, instruction, qargs, cargs)\u001b[0m\n\u001b[1;32m    537\u001b[0m         \u001b[0;31m# Convert input to Instruction\u001b[0m\u001b[0;34m\u001b[0m\u001b[0;34m\u001b[0m\u001b[0;34m\u001b[0m\u001b[0m\n\u001b[1;32m    538\u001b[0m         \u001b[0;32mif\u001b[0m \u001b[0;32mnot\u001b[0m \u001b[0misinstance\u001b[0m\u001b[0;34m(\u001b[0m\u001b[0minstruction\u001b[0m\u001b[0;34m,\u001b[0m \u001b[0mInstruction\u001b[0m\u001b[0;34m)\u001b[0m \u001b[0;32mand\u001b[0m \u001b[0mhasattr\u001b[0m\u001b[0;34m(\u001b[0m\u001b[0minstruction\u001b[0m\u001b[0;34m,\u001b[0m \u001b[0;34m'to_instruction'\u001b[0m\u001b[0;34m)\u001b[0m\u001b[0;34m:\u001b[0m\u001b[0;34m\u001b[0m\u001b[0;34m\u001b[0m\u001b[0m\n\u001b[0;32m--> 539\u001b[0;31m             \u001b[0minstruction\u001b[0m \u001b[0;34m=\u001b[0m \u001b[0minstruction\u001b[0m\u001b[0;34m.\u001b[0m\u001b[0mto_instruction\u001b[0m\u001b[0;34m(\u001b[0m\u001b[0;34m)\u001b[0m\u001b[0;34m\u001b[0m\u001b[0;34m\u001b[0m\u001b[0m\n\u001b[0m\u001b[1;32m    540\u001b[0m \u001b[0;34m\u001b[0m\u001b[0m\n\u001b[1;32m    541\u001b[0m         \u001b[0mexpanded_qargs\u001b[0m \u001b[0;34m=\u001b[0m \u001b[0;34m[\u001b[0m\u001b[0mself\u001b[0m\u001b[0;34m.\u001b[0m\u001b[0mqbit_argument_conversion\u001b[0m\u001b[0;34m(\u001b[0m\u001b[0mqarg\u001b[0m\u001b[0;34m)\u001b[0m \u001b[0;32mfor\u001b[0m \u001b[0mqarg\u001b[0m \u001b[0;32min\u001b[0m \u001b[0mqargs\u001b[0m \u001b[0;32mor\u001b[0m \u001b[0;34m[\u001b[0m\u001b[0;34m]\u001b[0m\u001b[0;34m]\u001b[0m\u001b[0;34m\u001b[0m\u001b[0;34m\u001b[0m\u001b[0m\n",
      "\u001b[0;32m/Library/Frameworks/Python.framework/Versions/3.7/lib/python3.7/site-packages/qiskit/quantum_info/operators/operator.py\u001b[0m in \u001b[0;36mto_instruction\u001b[0;34m(self)\u001b[0m\n\u001b[1;32m    201\u001b[0m         \u001b[0;31m# pylint: disable=cyclic-import\u001b[0m\u001b[0;34m\u001b[0m\u001b[0;34m\u001b[0m\u001b[0;34m\u001b[0m\u001b[0m\n\u001b[1;32m    202\u001b[0m         \u001b[0;32mfrom\u001b[0m \u001b[0mqiskit\u001b[0m\u001b[0;34m.\u001b[0m\u001b[0mextensions\u001b[0m\u001b[0;34m.\u001b[0m\u001b[0munitary\u001b[0m \u001b[0;32mimport\u001b[0m \u001b[0mUnitaryGate\u001b[0m\u001b[0;34m\u001b[0m\u001b[0;34m\u001b[0m\u001b[0m\n\u001b[0;32m--> 203\u001b[0;31m         \u001b[0;32mreturn\u001b[0m \u001b[0mUnitaryGate\u001b[0m\u001b[0;34m(\u001b[0m\u001b[0mself\u001b[0m\u001b[0;34m.\u001b[0m\u001b[0mdata\u001b[0m\u001b[0;34m)\u001b[0m\u001b[0;34m\u001b[0m\u001b[0;34m\u001b[0m\u001b[0m\n\u001b[0m\u001b[1;32m    204\u001b[0m \u001b[0;34m\u001b[0m\u001b[0m\n\u001b[1;32m    205\u001b[0m     \u001b[0;32mdef\u001b[0m \u001b[0mconjugate\u001b[0m\u001b[0;34m(\u001b[0m\u001b[0mself\u001b[0m\u001b[0;34m)\u001b[0m\u001b[0;34m:\u001b[0m\u001b[0;34m\u001b[0m\u001b[0;34m\u001b[0m\u001b[0m\n",
      "\u001b[0;32m/Library/Frameworks/Python.framework/Versions/3.7/lib/python3.7/site-packages/qiskit/extensions/unitary.py\u001b[0m in \u001b[0;36m__init__\u001b[0;34m(self, data, label)\u001b[0m\n\u001b[1;32m     67\u001b[0m         \u001b[0;32mif\u001b[0m \u001b[0minput_dim\u001b[0m \u001b[0;34m!=\u001b[0m \u001b[0moutput_dim\u001b[0m \u001b[0;32mor\u001b[0m \u001b[0;36m2\u001b[0m\u001b[0;34m**\u001b[0m\u001b[0mnum_qubits\u001b[0m \u001b[0;34m!=\u001b[0m \u001b[0minput_dim\u001b[0m\u001b[0;34m:\u001b[0m\u001b[0;34m\u001b[0m\u001b[0;34m\u001b[0m\u001b[0m\n\u001b[1;32m     68\u001b[0m             raise ExtensionError(\n\u001b[0;32m---> 69\u001b[0;31m                 \"Input matrix is not an N-qubit operator.\")\n\u001b[0m\u001b[1;32m     70\u001b[0m \u001b[0;34m\u001b[0m\u001b[0m\n\u001b[1;32m     71\u001b[0m         \u001b[0mself\u001b[0m\u001b[0;34m.\u001b[0m\u001b[0m_qasm_name\u001b[0m \u001b[0;34m=\u001b[0m \u001b[0;32mNone\u001b[0m\u001b[0;34m\u001b[0m\u001b[0;34m\u001b[0m\u001b[0m\n",
      "\u001b[0;31mExtensionError\u001b[0m: 'Input matrix is not an N-qubit operator.'"
     ]
    }
   ],
   "source": [
    "n = 3\n",
    "qrw = QRW(n) # initialize computer\n",
    "qrw.draw_circuit()\n",
    "qrw.perform_evolution()\n",
    "#qrw_instance.plot_states_hist()"
   ]
  },
  {
   "cell_type": "code",
   "execution_count": null,
   "metadata": {},
   "outputs": [],
   "source": []
  },
  {
   "cell_type": "code",
   "execution_count": 9,
   "metadata": {
    "colab": {
     "base_uri": "https://localhost:8080/",
     "height": 187
    },
    "colab_type": "code",
    "id": "DRDSlUKJVHgE",
    "outputId": "374bfb00-6a8c-4aab-c84b-fceaadb8261f"
   },
   "outputs": [
    {
     "name": "stdout",
     "output_type": "stream",
     "text": [
      "0000000001\n",
      "0000000010\n",
      "0000000100\n",
      "0000001000\n",
      "0000010000\n",
      "0000100000\n",
      "0001000000\n",
      "0010000000\n",
      "0100000000\n",
      "1000000000\n"
     ]
    }
   ],
   "source": [
    "n = 10\n",
    "for d in range(n):\n",
    "    print(get_binary_basis_vec(d, n))"
   ]
  },
  {
   "cell_type": "code",
   "execution_count": null,
   "metadata": {
    "colab": {},
    "colab_type": "code",
    "id": "IdpKvvWOKZhO"
   },
   "outputs": [],
   "source": []
  }
 ],
 "metadata": {
  "colab": {
   "collapsed_sections": [],
   "name": "quantum_notebook.ipynb",
   "provenance": []
  },
  "kernelspec": {
   "display_name": "Python 3",
   "language": "python",
   "name": "python3"
  },
  "language_info": {
   "codemirror_mode": {
    "name": "ipython",
    "version": 3
   },
   "file_extension": ".py",
   "mimetype": "text/x-python",
   "name": "python",
   "nbconvert_exporter": "python",
   "pygments_lexer": "ipython3",
   "version": "3.7.4"
  }
 },
 "nbformat": 4,
 "nbformat_minor": 4
}
